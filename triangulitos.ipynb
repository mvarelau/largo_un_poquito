{
  "nbformat": 4,
  "nbformat_minor": 0,
  "metadata": {
    "colab": {
      "provenance": []
    },
    "kernelspec": {
      "name": "python3",
      "display_name": "Python 3"
    },
    "language_info": {
      "name": "python"
    }
  },
  "cells": [
    {
      "cell_type": "code",
      "source": [
        "lado_a = float(input(\"Ingrese la longitud del lado 'a': \"))\n",
        "lado_b = float(input(\"Ingrese la longitud del lado 'b': \"))\n",
        "lado_c = float(input(\"Ingrese la longitud del lado 'c': \"))\n",
        "if lado_b < (lado_c +lado_a) and lado_c < (lado_b +lado_a) and lado_a < (lado_c +lado_b):\n",
        "    print(\"Es posible crear un triangulo a parir de las longitudes ingresadas\")\n",
        "else:\n",
        "    print(\"NO es posible crear un triangulo a parir de las longitudes ingresadas\")"
      ],
      "metadata": {
        "id": "AMce6ZrWQvjF"
      },
      "execution_count": null,
      "outputs": []
    }
  ]
}