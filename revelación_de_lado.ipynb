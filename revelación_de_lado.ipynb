{
  "nbformat": 4,
  "nbformat_minor": 0,
  "metadata": {
    "colab": {
      "provenance": []
    },
    "kernelspec": {
      "name": "python3",
      "display_name": "Python 3"
    },
    "language_info": {
      "name": "python"
    }
  },
  "cells": [
    {
      "cell_type": "code",
      "source": [
        "a=float( input(\"Ingrese un número real: \"))\n",
        "if a > 0:\n",
        "    print(f\"El número {a} es positivo\")\n",
        "elif a < 0:\n",
        "    print(f\"El número {a} es negativo\")\n",
        "else:\n",
        "    print(f\"El número {a} es el número neutro para la suma\")"
      ],
      "metadata": {
        "id": "0RK5waVMPunE"
      },
      "execution_count": null,
      "outputs": []
    }
  ]
}