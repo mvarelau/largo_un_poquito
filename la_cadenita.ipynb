{
  "nbformat": 4,
  "nbformat_minor": 0,
  "metadata": {
    "colab": {
      "provenance": []
    },
    "kernelspec": {
      "name": "python3",
      "display_name": "Python 3"
    },
    "language_info": {
      "name": "python"
    }
  },
  "cells": [
    {
      "cell_type": "code",
      "source": [
        "la_cadenita = (input(\"Ingrese una letra: \"))\n",
        "codigo = ord(la_cadenita)\n",
        "if codigo % 2 == 0:\n",
        "    print(\"El código ASCII de primera letra de la cadena es par\")\n",
        "else:\n",
        "    print(\"El codigo ASCII de la primera letra de la cadena es impar\")\n"
      ],
      "metadata": {
        "id": "N5SuuqUhOrrh"
      },
      "execution_count": null,
      "outputs": []
    }
  ]
}