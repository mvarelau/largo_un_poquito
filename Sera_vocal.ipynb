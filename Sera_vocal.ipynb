{
  "nbformat": 4,
  "nbformat_minor": 0,
  "metadata": {
    "colab": {
      "provenance": []
    },
    "kernelspec": {
      "name": "python3",
      "display_name": "Python 3"
    },
    "language_info": {
      "name": "python"
    }
  },
  "cells": [
    {
      "cell_type": "code",
      "source": [
        "print(\"Ingrese un numero entero\")\n",
        "numerito = float(input(\"Su número: \"))\n",
        "if numerito == 97:\n",
        "    print(\"El número que ingresó corresponde a la vocal 'a' en el código ASCII\")\n",
        "elif numerito == 101:\n",
        "    print(\"El número que ingresó corresponde a la vocal 'e' en el código ASCII\")\n",
        "elif numerito == 105:\n",
        "    print(\"El número que ingresó corresponde a la vocal 'i' en el código ASCII\")\n",
        "elif numerito == 111:\n",
        "    print(\"El número que ingresó corresponde a la vocal 'o' en el código ASCII\")\n",
        "elif numerito == 117:\n",
        "    print(\"El número que ingresó corresponde a la vocal 'u' en el código ASCII\")\n",
        "else:\n",
        "    print(\"El número que ingresó no corresponde a alguna vocal minúscula en código ASCII\")\n"
      ],
      "metadata": {
        "id": "Um-HJt0ZOZ3m"
      },
      "execution_count": null,
      "outputs": []
    }
  ]
}