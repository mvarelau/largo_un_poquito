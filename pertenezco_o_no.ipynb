{
  "nbformat": 4,
  "nbformat_minor": 0,
  "metadata": {
    "colab": {
      "provenance": []
    },
    "kernelspec": {
      "name": "python3",
      "display_name": "Python 3"
    },
    "language_info": {
      "name": "python"
    }
  },
  "cells": [
    {
      "cell_type": "code",
      "source": [
        "#Dado el centro y el radio de un círculo, determinar si un punto de R2 pertenece o no al interior del círculo.\n",
        "radio = float(input(\"Ingrese el radio de un círculo: \"))\n",
        "centro_x = float(input(\"Ingrese la coordenada en x del centro del círculo: \"))\n",
        "centro_y = float(input(\"Ingrese la coordenada en y del centro del cículo:  \"))\n",
        "el_punto_x = float(input(\"Ingrese la coordenada en x del punto: \"))\n",
        "el_punto_y = float(input(\"Ingrese la coordenada en y del punto: \"))\n",
        "if ((el_punto_x - centro_x)**2) + ((el_punto_y - centro_y)**2) <= (radio**2):#Ecuación de la circunferencia\n",
        "    print(f\"El punto ({el_punto_x};{el_punto_y}) pertenece al interior del círculo de centro ({centro_x};{centro_y}) y radio {radio}\")\n",
        "else:\n",
        "    print(f\"El punto ({el_punto_x};{el_punto_y}) NO pertenece al interior del círculo de centro ({centro_x};{centro_y}) y radio {radio}\")"
      ],
      "metadata": {
        "id": "ckjIa6PEQOtV"
      },
      "execution_count": null,
      "outputs": []
    }
  ]
}