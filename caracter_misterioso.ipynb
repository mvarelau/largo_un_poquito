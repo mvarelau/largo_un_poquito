{
  "nbformat": 4,
  "nbformat_minor": 0,
  "metadata": {
    "colab": {
      "provenance": []
    },
    "kernelspec": {
      "name": "python3",
      "display_name": "Python 3"
    },
    "language_info": {
      "name": "python"
    }
  },
  "cells": [
    {
      "cell_type": "code",
      "source": [
        "el_susodicho = (input(\"Ingrese un carácter: \"))\n",
        "if el_susodicho == \"0\" or el_susodicho == \"1\" or el_susodicho == \"2\" or el_susodicho == \"3\" or el_susodicho == \"4\" or el_susodicho == \"5\" or el_susodicho == \"6\" or el_susodicho == \"7\" or el_susodicho == \"8\" or el_susodicho == \"9\":\n",
        "    print(\"El carácter ingresado corresponde a un dígito\")\n",
        "else:\n",
        "    print(\"El carácter ingresado no corresponde a un dígito\")"
      ],
      "metadata": {
        "id": "cKANqmxFPgV7"
      },
      "execution_count": null,
      "outputs": []
    }
  ]
}